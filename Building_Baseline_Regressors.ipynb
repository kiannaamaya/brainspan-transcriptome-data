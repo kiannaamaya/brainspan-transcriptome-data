{
  "nbformat": 4,
  "nbformat_minor": 0,
  "metadata": {
    "colab": {
      "provenance": []
    },
    "kernelspec": {
      "name": "python3",
      "display_name": "Python 3"
    },
    "language_info": {
      "name": "python"
    }
  },
  "cells": [
    {
      "cell_type": "code",
      "execution_count": 7,
      "metadata": {
        "colab": {
          "base_uri": "https://localhost:8080/"
        },
        "id": "mbt0SDw1GdN8",
        "outputId": "bfe201b7-cf68-4ac7-973e-e2592d851d0e"
      },
      "outputs": [
        {
          "output_type": "stream",
          "name": "stdout",
          "text": [
            "1.3.2\n"
          ]
        }
      ],
      "source": [
        "import os\n",
        "import joblib\n",
        "print(joblib.__version__)\n",
        "import pandas as pd\n",
        "import numpy as np\n",
        "from sklearn.model_selection import train_test_split\n",
        "from sklearn.utils import shuffle\n",
        "from sklearn.preprocessing import LabelEncoder, StandardScaler\n",
        "import matplotlib.pyplot as plt\n",
        "from sklearn.ensemble import RandomForestRegressor\n",
        "from sklearn.linear_model import LinearRegression\n",
        "from sklearn.svm import SVR\n",
        "from xgboost import XGBRegressor\n",
        "from sklearn.neural_network import MLPRegressor"
      ]
    },
    {
      "cell_type": "code",
      "source": [
        "def scale(X):\n",
        "    \"\"\"\n",
        "    Scales (standardizes) the input data.\n",
        "\n",
        "    Args:\n",
        "    - X (pd.DataFrame): Input data to be scaled.\n",
        "\n",
        "    Returns:\n",
        "    - np.ndarray: Scaled (standardized) data.\n",
        "    \"\"\"\n",
        "    scaler = StandardScaler()\n",
        "    return scaler.fit_transform(X)"
      ],
      "metadata": {
        "id": "heXNJRyuGrXF"
      },
      "execution_count": 6,
      "outputs": []
    },
    {
      "cell_type": "code",
      "source": [
        "def convert_age_to_weeks(age_str):\n",
        "    if 'pcw' in age_str:\n",
        "        # Extract the number and use it directly\n",
        "        return float(age_str.split(' ')[0])\n",
        "    elif 'mos' in age_str:\n",
        "        # Convert months to weeks\n",
        "        return float(age_str.split(' ')[0]) * 4.345\n",
        "    elif 'yrs' in age_str or 'years' in age_str:\n",
        "        # Convert years to weeks\n",
        "        return float(age_str.split(' ')[0]) * 52\n",
        "    else:\n",
        "        raise ValueError(f\"Unknown age format: {age_str}\")"
      ],
      "metadata": {
        "id": "wV7DHKrcFn-o"
      },
      "execution_count": 8,
      "outputs": []
    },
    {
      "cell_type": "code",
      "source": [
        "def preprocess_data(data_path, file_type='csv'):\n",
        "    \"\"\"\n",
        "    Preprocess the data for regression and return the train-test split.\n",
        "    \"\"\"\n",
        "\n",
        "    if file_type == 'csv':\n",
        "        data = pd.read_csv(data_path, index_col=0)\n",
        "    elif file_type == 'excel':\n",
        "        data = pd.read_excel(data_path, index_col=0)\n",
        "    elif file_type == 'txt':\n",
        "        data = pd.read_csv(data_path, sep='\\t', index_col=0)\n",
        "    else:\n",
        "        raise ValueError(\"Unsupported file type\")\n",
        "    print(\"Data loaded successfully.\")\n",
        "\n",
        "\n",
        "    data['age'] = data['age'].apply(convert_age_to_weeks)\n",
        "\n",
        "    X = data.select_dtypes(include=[np.number])\n",
        "    X = X.drop(columns=['age'])\n",
        "    y = data['age']\n",
        "\n",
        "    X, y = shuffle(X, y, random_state=0)\n",
        "    X_scaled = scale(X)\n",
        "\n",
        "    X_train, X_test, y_train, y_test = train_test_split(X_scaled, y, test_size=0.2, random_state=42)\n",
        "\n",
        "    print(\"Data preprocessed for regression and split into training and test sets.\")\n",
        "    return X_train, X_test, y_train, y_test"
      ],
      "metadata": {
        "id": "d8TzLCTOF1DS"
      },
      "execution_count": 10,
      "outputs": []
    },
    {
      "cell_type": "code",
      "source": [
        "def save_data_splits(X_train, X_test, y_train, y_test, output_dir):\n",
        "    \"\"\"\n",
        "    Saves the train-test data splits to the specified directory using joblib.\n",
        "\n",
        "    Args:\n",
        "    - X_train (pd.DataFrame or np.ndarray): Training data features.\n",
        "    - X_test (pd.DataFrame or np.ndarray): Testing data features.\n",
        "    - y_train (pd.Series or np.ndarray): Training data labels.\n",
        "    - y_test (pd.Series or np.ndarray): Testing data labels.\n",
        "    - output_dir (str): Directory path where the data splits will be saved.\n",
        "\n",
        "    Note:\n",
        "    - If the output directory does not exist, it will be created.\n",
        "    \"\"\"\n",
        "    if not os.path.exists(output_dir):\n",
        "        os.makedirs(output_dir)\n",
        "    joblib.dump(X_train, os.path.join(output_dir, 'X_train_reg.pkl'))\n",
        "    joblib.dump(X_test, os.path.join(output_dir, 'X_test_reg.pkl'))\n",
        "    joblib.dump(y_train, os.path.join(output_dir, 'y_train_reg.pkl'))\n",
        "    joblib.dump(y_test, os.path.join(output_dir, 'y_test_reg.pkl'))"
      ],
      "metadata": {
        "id": "nDyCByi8F6C8"
      },
      "execution_count": 11,
      "outputs": []
    },
    {
      "cell_type": "code",
      "source": [
        "from sklearn.metrics import mean_squared_error, r2_score\n",
        "import joblib\n",
        "import os\n",
        "\n",
        "def train_evaluate_regressor(regressor, X_train, y_train, X_test, y_test, output_dir):\n",
        "    \"\"\"\n",
        "    Trains the regressor on the training data, evaluates it on the test data,\n",
        "    and saves the trained model and performance metrics to the specified directory.\n",
        "    \"\"\"\n",
        "    regressor.fit(X_train, y_train)\n",
        "\n",
        "    y_pred = regressor.predict(X_test)\n",
        "\n",
        "    mse = mean_squared_error(y_test, y_pred)\n",
        "    r2 = r2_score(y_test, y_pred)\n",
        "    print(f\"Mean Squared Error: {mse}\")\n",
        "    print(f\"R-squared: {r2}\")\n",
        "\n",
        "    if not os.path.exists(output_dir):\n",
        "        os.makedirs(output_dir)\n",
        "\n",
        "    with open(os.path.join(output_dir, 'performance_metrics.txt'), 'w') as f:\n",
        "        f.write(f\"Mean Squared Error: {mse}\\n\")\n",
        "        f.write(f\"R-squared: {r2}\\n\")\n",
        "\n",
        "    joblib.dump(regressor, os.path.join(output_dir, 'trained_model.pkl'))\n",
        "\n",
        "    return y_pred, regressor"
      ],
      "metadata": {
        "id": "heDvIN9LF8tP"
      },
      "execution_count": 12,
      "outputs": []
    },
    {
      "cell_type": "code",
      "source": [
        "def main(data_paths):\n",
        "    \"\"\"\n",
        "    The main pipeline to preprocess data, train multiple regressors, and evaluate their performance.\n",
        "    \"\"\"\n",
        "    regressors = [\n",
        "        RandomForestRegressor(random_state=42),\n",
        "        LinearRegression(),\n",
        "        SVR(),\n",
        "        XGBRegressor(random_state=42),\n",
        "        MLPRegressor(random_state=42)\n",
        "    ]\n",
        "\n",
        "    for data_path in data_paths:\n",
        "        data_type = os.path.basename(data_path).split('_')[0]\n",
        "\n",
        "        X_train, X_test, y_train, y_test = preprocess_data(data_path)\n",
        "        save_data_splits(X_train, X_test, y_train, y_test, os.path.join('baseline_regressor_outputs', data_type))\n",
        "\n",
        "        for regressor in regressors:\n",
        "            regressor_name = regressor.__class__.__name__\n",
        "            output_dir = os.path.join('baseline_regressor_outputs', data_type, regressor_name)\n",
        "\n",
        "            print(f\"Training regressor: {regressor_name}\")\n",
        "            y_pred, trained_regressor = train_evaluate_regressor(regressor, X_train, y_train, X_test, y_test, output_dir)"
      ],
      "metadata": {
        "id": "ADQwAaqRGCZF"
      },
      "execution_count": 13,
      "outputs": []
    },
    {
      "cell_type": "code",
      "source": [
        "data_paths = [#'methylation_1.csv',\n",
        "              '/content/drive/MyDrive/microRNA/microRNA_1.csv',\n",
        "              '/content/drive/MyDrive/rnaseq/rnaseq_1.csv'\n",
        "              ]\n",
        "main(data_paths)"
      ],
      "metadata": {
        "colab": {
          "base_uri": "https://localhost:8080/"
        },
        "id": "w38xW95wGESX",
        "outputId": "12ff8fcc-b191-43ef-f9b4-603846b3528c"
      },
      "execution_count": 14,
      "outputs": [
        {
          "output_type": "stream",
          "name": "stdout",
          "text": [
            "Data loaded successfully.\n",
            "Data preprocessed for regression and split into training and test sets.\n",
            "Training regressor: RandomForestRegressor\n",
            "Mean Squared Error: 30778.063320717498\n",
            "R-squared: 0.8269864262167625\n",
            "Training regressor: LinearRegression\n",
            "Mean Squared Error: 42267.57540447136\n",
            "R-squared: 0.7624001159631904\n",
            "Training regressor: SVR\n",
            "Mean Squared Error: 182316.57196859733\n",
            "R-squared: -0.024861159960096746\n",
            "Data loaded successfully.\n",
            "Data preprocessed for regression and split into training and test sets.\n",
            "Training regressor: RandomForestRegressor\n",
            "Mean Squared Error: 44037.538671959745\n",
            "R-squared: 0.8997170833368429\n",
            "Training regressor: LinearRegression\n",
            "Mean Squared Error: 11128.806008920712\n",
            "R-squared: 0.9746573228384434\n",
            "Training regressor: SVR\n",
            "Mean Squared Error: 572133.6497244224\n",
            "R-squared: -0.30287097884594094\n"
          ]
        }
      ]
    },
    {
      "cell_type": "code",
      "source": [
        "!zip -r baseline_model_outputs.zip baseline_model_outputs"
      ],
      "metadata": {
        "id": "eGkyf6v9LXAy"
      },
      "execution_count": null,
      "outputs": []
    }
  ]
}